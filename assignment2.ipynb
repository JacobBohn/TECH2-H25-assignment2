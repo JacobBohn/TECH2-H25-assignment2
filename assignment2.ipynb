{
 "cells": [
  {
   "cell_type": "markdown",
   "id": "5b24ab0a",
   "metadata": {},
   "source": [
    "# TECH2 Mandatory assignment 2\n",
    "\n",
    "## About the mandatory assignment\n",
    "\n",
    "-   The assignment must be completed individually.\n",
    "-   You are allowed to use all online resources for help, including generative AI. You must include a statement on how you used AI to solve the tasks.\n",
    "-   After the assignment deadline, you must perform a peer review of two other students' assignment on Canvas. You're not allowed to use AI to write the peer-review for you.\n",
    "-   Deadline for the assignment: Friday, October 17, 16:00.\n",
    "-   Deadline for the peer review: Friday, October 24, 16:00."
   ]
  },
  {
   "cell_type": "markdown",
   "id": "969a9208",
   "metadata": {},
   "source": [
    "\n",
    "## Requirements\n",
    "\n",
    "-   Your solution needs to be uploaded to GitHub. You should fork the assignment repository at\n",
    "    [https://github.com/richardfoltyn/TECH2-H25-assignment2](https://github.com/richardfoltyn/TECH2-H25-assignment2)\n",
    "    and add your solution to this notebook.\n",
    "-   All commits in your repository must be *prior* to the deadline. \n",
    "-   You need to make sure that your GitHub repository is publicly accessible. This can be changed in the GitHub repository setttings, if required.\n",
    "-   You need to submit the URL to the your GitHub repository on Canvas.\n",
    "-   Make sure your notebook runs without errors (`Restart` and `Run all`). \n",
    "-   Your notebook *must* run with the TECH2 environment we've been using in part 2. You can create this environment from the \n",
    "    `environment.yml` file in this repository if you haven't done so earlier.\n"
   ]
  },
  {
   "cell_type": "markdown",
   "id": "2e89eaca",
   "metadata": {},
   "source": [
    "## Tasks\n",
    "\n",
    "In this assignment, you are asked to analyze a 10% sub-sample of the Survey of Consumer Finances (SCF), a survey of household portfolios that is representative of the US population. The survey was administered every 3 years from 1989 to 2022. The appendix in this document contains a description of the variables present in this data set (this is a subset; the original SCF contains many more variables).\n",
    "\n",
    "1.  Data preprocessing\n",
    "\n",
    "    1.  Read the CSV file `SCF_10pct.csv` stored in this repository.\n",
    "    2.  Keep only observations where the household head is aged between 25 and 89. \n",
    "    3.  Create the column `'college'`, which contains an indicator variable that is 1 when the household head has at least some college (column `'educ'` is 3 or 4), and 0 otherwise.\n",
    "    4.  Divide the values in the column `'networth'` by 1,000 so that they are reported in thousands of US dollars.\n",
    "    5.  Report the number of observations in the final sample.\n",
    "\n",
    "2.  In this part, you're asked to analyze how net worth (total gross assets minus total debt) varies across the four education levels (no high school, high school, some college, 4-year college or more):\n",
    "\n",
    "    1.  Compute the average net worth (in thousands of US dollars) by education (use a loop).\n",
    "    2.  Create a bar chart that plots the average net worth by education.\n",
    " \n",
    "3.  In this part, you're asked to analyze how net worth has changed over the last 3 decades:\n",
    "\n",
    "    1.  Compute the average net worth (in thousands of US dollars) by survey year (use a loop).\n",
    "    2.  Create a line plot that shows the evolution of average net worth over the years 1989 to 2022.\n",
    "\n",
    "4.  Finally, combine the analyses from the previous parts to see how net worth evolved over the years for those with and without college.\n",
    "\n",
    "    1.  Compute the average net worth (in thousands of US dollars) by survey year, separately for non-college (`college=0`) and the college-educated (`college=1`).\n",
    "    2.  Create a line plot that shows the evolution of net worth over the years 1989 to 2022 by college status, i.e., your figure should contain two lines, one for college and one for non-college.\n",
    "\n",
    "Remember to add axis labels, titles, and legends (where applicable) to all your figures.\n"
   ]
  },
  {
   "cell_type": "markdown",
   "id": "05716c15",
   "metadata": {},
   "source": [
    "## Hints\n",
    "\n",
    "-   The assignment can be solved using the concepts we covered up to and including lecture/workshop 3 on Friday, October 10. \n",
    "-   In particular, you don't need `groupby()` which we'll cover later in the course, but you can instead loop over education levels or years, as needed."
   ]
  },
  {
   "cell_type": "markdown",
   "id": "b7c832de",
   "metadata": {},
   "source": [
    "***\n",
    "**WRITE YOUR SOLUTION TO PARTS 1-4 HERE**"
   ]
  },
  {
   "cell_type": "code",
   "execution_count": 111,
   "id": "d2726640",
   "metadata": {},
   "outputs": [
    {
     "data": {
      "text/html": [
       "<div>\n",
       "<style scoped>\n",
       "    .dataframe tbody tr th:only-of-type {\n",
       "        vertical-align: middle;\n",
       "    }\n",
       "\n",
       "    .dataframe tbody tr th {\n",
       "        vertical-align: top;\n",
       "    }\n",
       "\n",
       "    .dataframe thead th {\n",
       "        text-align: right;\n",
       "    }\n",
       "</style>\n",
       "<table border=\"1\" class=\"dataframe\">\n",
       "  <thead>\n",
       "    <tr style=\"text-align: right;\">\n",
       "      <th></th>\n",
       "      <th>id</th>\n",
       "      <th>year</th>\n",
       "      <th>age</th>\n",
       "      <th>educ</th>\n",
       "      <th>networth</th>\n",
       "    </tr>\n",
       "  </thead>\n",
       "  <tbody>\n",
       "    <tr>\n",
       "      <th>0</th>\n",
       "      <td>1</td>\n",
       "      <td>1989</td>\n",
       "      <td>35</td>\n",
       "      <td>2</td>\n",
       "      <td>0.0</td>\n",
       "    </tr>\n",
       "    <tr>\n",
       "      <th>1</th>\n",
       "      <td>2</td>\n",
       "      <td>1989</td>\n",
       "      <td>35</td>\n",
       "      <td>2</td>\n",
       "      <td>0.0</td>\n",
       "    </tr>\n",
       "    <tr>\n",
       "      <th>2</th>\n",
       "      <td>3</td>\n",
       "      <td>1989</td>\n",
       "      <td>51</td>\n",
       "      <td>2</td>\n",
       "      <td>16899.9</td>\n",
       "    </tr>\n",
       "    <tr>\n",
       "      <th>3</th>\n",
       "      <td>4</td>\n",
       "      <td>1989</td>\n",
       "      <td>33</td>\n",
       "      <td>2</td>\n",
       "      <td>25845.6</td>\n",
       "    </tr>\n",
       "    <tr>\n",
       "      <th>4</th>\n",
       "      <td>5</td>\n",
       "      <td>1989</td>\n",
       "      <td>33</td>\n",
       "      <td>2</td>\n",
       "      <td>25845.6</td>\n",
       "    </tr>\n",
       "  </tbody>\n",
       "</table>\n",
       "</div>"
      ],
      "text/plain": [
       "   id  year  age  educ  networth\n",
       "0   1  1989   35     2       0.0\n",
       "1   2  1989   35     2       0.0\n",
       "2   3  1989   51     2   16899.9\n",
       "3   4  1989   33     2   25845.6\n",
       "4   5  1989   33     2   25845.6"
      ]
     },
     "execution_count": 111,
     "metadata": {},
     "output_type": "execute_result"
    }
   ],
   "source": [
    "import pandas as pd\n",
    "import numpy as np \n",
    "import matplotlib as mpl\n",
    "import matplotlib.pyplot as plt\n",
    "\n",
    "\n",
    "filepath= '/Users/jacob/Documents/TECH2/week1/TECH2-H25-assignment2/' \n",
    "\n",
    "data= f'{filepath}SCF_10pct.csv'\n",
    "\n",
    "df= pd.read_csv(data) \n",
    "\n",
    "df.head()"
   ]
  },
  {
   "cell_type": "code",
   "execution_count": 135,
   "id": "abbeeaba",
   "metadata": {},
   "outputs": [
    {
     "name": "stderr",
     "output_type": "stream",
     "text": [
      "/var/folders/wl/b6wt30cs2fd5ww0jsv2h_jqc0000gn/T/ipykernel_76211/2529278723.py:5: SettingWithCopyWarning: \n",
      "A value is trying to be set on a copy of a slice from a DataFrame.\n",
      "Try using .loc[row_indexer,col_indexer] = value instead\n",
      "\n",
      "See the caveats in the documentation: https://pandas.pydata.org/pandas-docs/stable/user_guide/indexing.html#returning-a-view-versus-a-copy\n",
      "  df1['college']= df1['educ'].isin([3,4]).astype(int)\n"
     ]
    },
    {
     "data": {
      "text/html": [
       "<div>\n",
       "<style scoped>\n",
       "    .dataframe tbody tr th:only-of-type {\n",
       "        vertical-align: middle;\n",
       "    }\n",
       "\n",
       "    .dataframe tbody tr th {\n",
       "        vertical-align: top;\n",
       "    }\n",
       "\n",
       "    .dataframe thead th {\n",
       "        text-align: right;\n",
       "    }\n",
       "</style>\n",
       "<table border=\"1\" class=\"dataframe\">\n",
       "  <thead>\n",
       "    <tr style=\"text-align: right;\">\n",
       "      <th></th>\n",
       "      <th>id</th>\n",
       "      <th>year</th>\n",
       "      <th>age</th>\n",
       "      <th>educ</th>\n",
       "      <th>networth</th>\n",
       "      <th>college</th>\n",
       "    </tr>\n",
       "  </thead>\n",
       "  <tbody>\n",
       "    <tr>\n",
       "      <th>140</th>\n",
       "      <td>141</td>\n",
       "      <td>1989</td>\n",
       "      <td>25</td>\n",
       "      <td>1</td>\n",
       "      <td>-7308.7</td>\n",
       "      <td>0</td>\n",
       "    </tr>\n",
       "    <tr>\n",
       "      <th>141</th>\n",
       "      <td>142</td>\n",
       "      <td>1989</td>\n",
       "      <td>25</td>\n",
       "      <td>1</td>\n",
       "      <td>-7308.7</td>\n",
       "      <td>0</td>\n",
       "    </tr>\n",
       "    <tr>\n",
       "      <th>178</th>\n",
       "      <td>179</td>\n",
       "      <td>1989</td>\n",
       "      <td>25</td>\n",
       "      <td>4</td>\n",
       "      <td>9660.4</td>\n",
       "      <td>1</td>\n",
       "    </tr>\n",
       "    <tr>\n",
       "      <th>179</th>\n",
       "      <td>180</td>\n",
       "      <td>1989</td>\n",
       "      <td>25</td>\n",
       "      <td>4</td>\n",
       "      <td>9660.4</td>\n",
       "      <td>1</td>\n",
       "    </tr>\n",
       "    <tr>\n",
       "      <th>201</th>\n",
       "      <td>202</td>\n",
       "      <td>1989</td>\n",
       "      <td>80</td>\n",
       "      <td>1</td>\n",
       "      <td>922.2</td>\n",
       "      <td>0</td>\n",
       "    </tr>\n",
       "  </tbody>\n",
       "</table>\n",
       "</div>"
      ],
      "text/plain": [
       "      id  year  age  educ  networth  college\n",
       "140  141  1989   25     1   -7308.7        0\n",
       "141  142  1989   25     1   -7308.7        0\n",
       "178  179  1989   25     4    9660.4        1\n",
       "179  180  1989   25     4    9660.4        1\n",
       "201  202  1989   80     1     922.2        0"
      ]
     },
     "execution_count": 135,
     "metadata": {},
     "output_type": "execute_result"
    }
   ],
   "source": [
    "df1= df.query('age in [25, 80]')\n",
    "\n",
    "df1.head()\n",
    "\n",
    "df1['college']= df1['educ'].isin([3,4]).astype(int)\n",
    "df1.head()"
   ]
  },
  {
   "cell_type": "code",
   "execution_count": 113,
   "id": "c50db245",
   "metadata": {},
   "outputs": [
    {
     "name": "stdout",
     "output_type": "stream",
     "text": [
      "<class 'pandas.core.frame.DataFrame'>\n",
      "Index: 130 entries, 0 to 1\n",
      "Data columns (total 5 columns):\n",
      " #   Column    Non-Null Count  Dtype  \n",
      "---  ------    --------------  -----  \n",
      " 0   id        130 non-null    int64  \n",
      " 1   year      130 non-null    int64  \n",
      " 2   age       130 non-null    int64  \n",
      " 3   educ      130 non-null    int64  \n",
      " 4   networth  130 non-null    float64\n",
      "dtypes: float64(1), int64(4)\n",
      "memory usage: 6.1 KB\n"
     ]
    },
    {
     "name": "stderr",
     "output_type": "stream",
     "text": [
      "/var/folders/wl/b6wt30cs2fd5ww0jsv2h_jqc0000gn/T/ipykernel_76211/2817815291.py:1: SettingWithCopyWarning: \n",
      "A value is trying to be set on a copy of a slice from a DataFrame.\n",
      "Try using .loc[row_indexer,col_indexer] = value instead\n",
      "\n",
      "See the caveats in the documentation: https://pandas.pydata.org/pandas-docs/stable/user_guide/indexing.html#returning-a-view-versus-a-copy\n",
      "  df1['networth'] = df1['networth']/1000\n"
     ]
    }
   ],
   "source": [
    "df1['networth'] = df1['networth']/1000\n",
    "\n",
    "df1.info()"
   ]
  },
  {
   "cell_type": "code",
   "execution_count": 114,
   "id": "de369987",
   "metadata": {},
   "outputs": [
    {
     "ename": "NameError",
     "evalue": "name 'avg' is not defined",
     "output_type": "error",
     "traceback": [
      "\u001b[31m---------------------------------------------------------------------------\u001b[39m",
      "\u001b[31mNameError\u001b[39m                                 Traceback (most recent call last)",
      "\u001b[36mCell\u001b[39m\u001b[36m \u001b[39m\u001b[32mIn[114]\u001b[39m\u001b[32m, line 8\u001b[39m\n\u001b[32m      5\u001b[39m         average_networth= df1[df1[\u001b[33m'\u001b[39m\u001b[33meduc\u001b[39m\u001b[33m'\u001b[39m] == i][\u001b[33m'\u001b[39m\u001b[33mnetworth\u001b[39m\u001b[33m'\u001b[39m].mean()\n\u001b[32m      6\u001b[39m         \u001b[38;5;28;01mreturn\u001b[39;00m (i, average_networth)\n\u001b[32m----> \u001b[39m\u001b[32m8\u001b[39m \u001b[43mavg\u001b[49m\n\u001b[32m      9\u001b[39m x= [\u001b[32m1\u001b[39m,\u001b[32m2\u001b[39m,\u001b[32m3\u001b[39m,\u001b[32m4\u001b[39m]\n\u001b[32m     10\u001b[39m y= [df1[df1[\u001b[33m'\u001b[39m\u001b[33meduc\u001b[39m\u001b[33m'\u001b[39m] == i][\u001b[33m'\u001b[39m\u001b[33mnetworth\u001b[39m\u001b[33m'\u001b[39m].mean() \u001b[38;5;28;01mfor\u001b[39;00m i \u001b[38;5;129;01min\u001b[39;00m x]\n",
      "\u001b[31mNameError\u001b[39m: name 'avg' is not defined"
     ]
    }
   ],
   "source": [
    "#Used chatgpt for .unique. to somehow isolate values in educ\n",
    "\n",
    "def avg_networth_education_level(df1):\n",
    "    for i in df1['educ'].unique():\n",
    "        average_networth= df1[df1['educ'] == i]['networth'].mean()\n",
    "        return (i, average_networth)\n",
    "        \n",
    "avg\n",
    "x= [1,2,3,4]\n",
    "y= [df1[df1['educ'] == i]['networth'].mean() for i in x]\n",
    "plt.bar(x, y)\n"
   ]
  },
  {
   "cell_type": "code",
   "execution_count": 129,
   "id": "8ea8bcc4",
   "metadata": {},
   "outputs": [
    {
     "name": "stdout",
     "output_type": "stream",
     "text": [
      "[(np.int64(1989), np.float64(435.27135625000005)), (np.int64(1992), np.float64(334.28782727272727)), (np.int64(1995), np.float64(170.9669888888889)), (np.int64(1998), np.float64(41.88348333333333)), (np.int64(2001), np.float64(29.442199999999993)), (np.int64(2004), np.float64(191.9267285714286)), (np.int64(2007), np.float64(745.6307)), (np.int64(2010), np.float64(159.26783999999998)), (np.int64(2013), np.float64(143.61008571428573)), (np.int64(2016), np.float64(119.31413750000002)), (np.int64(2019), np.float64(188.83207142857145)), (np.int64(2022), np.float64(930.7667999999999))]\n"
     ]
    },
    {
     "data": {
      "text/plain": [
       "Text(0.5, 1.0, 'Average Networth over the years 1989 to 2022')"
      ]
     },
     "execution_count": 129,
     "metadata": {},
     "output_type": "execute_result"
    },
    {
     "data": {
      "image/png": "[encoded data removed]",
      "text/plain": [
       "<Figure size 640x480 with 1 Axes>"
      ]
     },
     "metadata": {},
     "output_type": "display_data"
    }
   ],
   "source": [
    " #Compute the average net worth (in thousands of US dollars) by survey year (use a loop).\n",
    "   # 2.  Create a line plot that shows the evolution of average net worth over the years 1989 to 2022.\n",
    "\n",
    "\n",
    "\n",
    "\n",
    "\n",
    "#I did this very differently first, no function defined and no .append, only printed the results but\n",
    "#tried to make the function reusable for the next part of the assignment\n",
    "def avg_networth_year(df1):\n",
    "    #make array to append to\n",
    "    avg_list = []\n",
    "    for year in df1['year'].unique():\n",
    "    #collect identical years and compute mean networth for the group of identical years\n",
    "      avg_networth_year = df1[df1['year'] == year]['networth'].mean()\n",
    "      #append the year and the mean networth to the array\n",
    "      avg_list.append((year, avg_networth_year))\n",
    "    return avg_list\n",
    "\n",
    "print(avg_networth_year(df1))\n",
    "#I also did tis completely differently  first, had to use GPT to figure out \"zip(*...)\"\n",
    "x, y = zip(*avg_networth_year(df1))\n",
    "\n",
    "plt.plot(x,y)\n",
    "\n",
    "plt.xlabel('Year')\n",
    "plt.ylabel('Average Networth (in thousands of US dollars)')\n",
    "plt.title('Average Networth over the years 1989 to 2022')\n",
    "\n",
    "\n"
   ]
  },
  {
   "cell_type": "code",
   "execution_count": 130,
   "id": "54752a72",
   "metadata": {},
   "outputs": [
    {
     "data": {
      "text/html": [
       "<div>\n",
       "<style scoped>\n",
       "    .dataframe tbody tr th:only-of-type {\n",
       "        vertical-align: middle;\n",
       "    }\n",
       "\n",
       "    .dataframe tbody tr th {\n",
       "        vertical-align: top;\n",
       "    }\n",
       "\n",
       "    .dataframe thead th {\n",
       "        text-align: right;\n",
       "    }\n",
       "</style>\n",
       "<table border=\"1\" class=\"dataframe\">\n",
       "  <thead>\n",
       "    <tr style=\"text-align: right;\">\n",
       "      <th></th>\n",
       "      <th>id</th>\n",
       "      <th>year</th>\n",
       "      <th>age</th>\n",
       "      <th>educ</th>\n",
       "      <th>networth</th>\n",
       "    </tr>\n",
       "    <tr>\n",
       "      <th>college</th>\n",
       "      <th></th>\n",
       "      <th></th>\n",
       "      <th></th>\n",
       "      <th></th>\n",
       "      <th></th>\n",
       "    </tr>\n",
       "  </thead>\n",
       "  <tbody>\n",
       "    <tr>\n",
       "      <th>0</th>\n",
       "      <td>141</td>\n",
       "      <td>1989</td>\n",
       "      <td>25</td>\n",
       "      <td>1</td>\n",
       "      <td>-7.3087</td>\n",
       "    </tr>\n",
       "    <tr>\n",
       "      <th>0</th>\n",
       "      <td>142</td>\n",
       "      <td>1989</td>\n",
       "      <td>25</td>\n",
       "      <td>1</td>\n",
       "      <td>-7.3087</td>\n",
       "    </tr>\n",
       "    <tr>\n",
       "      <th>1</th>\n",
       "      <td>179</td>\n",
       "      <td>1989</td>\n",
       "      <td>25</td>\n",
       "      <td>4</td>\n",
       "      <td>9.6604</td>\n",
       "    </tr>\n",
       "    <tr>\n",
       "      <th>1</th>\n",
       "      <td>180</td>\n",
       "      <td>1989</td>\n",
       "      <td>25</td>\n",
       "      <td>4</td>\n",
       "      <td>9.6604</td>\n",
       "    </tr>\n",
       "    <tr>\n",
       "      <th>0</th>\n",
       "      <td>202</td>\n",
       "      <td>1989</td>\n",
       "      <td>80</td>\n",
       "      <td>1</td>\n",
       "      <td>0.9222</td>\n",
       "    </tr>\n",
       "    <tr>\n",
       "      <th>...</th>\n",
       "      <td>...</td>\n",
       "      <td>...</td>\n",
       "      <td>...</td>\n",
       "      <td>...</td>\n",
       "      <td>...</td>\n",
       "    </tr>\n",
       "    <tr>\n",
       "      <th>0</th>\n",
       "      <td>5740</td>\n",
       "      <td>2022</td>\n",
       "      <td>80</td>\n",
       "      <td>2</td>\n",
       "      <td>16.0000</td>\n",
       "    </tr>\n",
       "    <tr>\n",
       "      <th>1</th>\n",
       "      <td>5746</td>\n",
       "      <td>2022</td>\n",
       "      <td>80</td>\n",
       "      <td>4</td>\n",
       "      <td>10624.0010</td>\n",
       "    </tr>\n",
       "    <tr>\n",
       "      <th>0</th>\n",
       "      <td>5751</td>\n",
       "      <td>2022</td>\n",
       "      <td>80</td>\n",
       "      <td>2</td>\n",
       "      <td>142.1000</td>\n",
       "    </tr>\n",
       "    <tr>\n",
       "      <th>1</th>\n",
       "      <td>5790</td>\n",
       "      <td>2022</td>\n",
       "      <td>80</td>\n",
       "      <td>3</td>\n",
       "      <td>5.1300</td>\n",
       "    </tr>\n",
       "    <tr>\n",
       "      <th>1</th>\n",
       "      <td>5805</td>\n",
       "      <td>2022</td>\n",
       "      <td>80</td>\n",
       "      <td>4</td>\n",
       "      <td>747.4000</td>\n",
       "    </tr>\n",
       "  </tbody>\n",
       "</table>\n",
       "<p>130 rows × 5 columns</p>\n",
       "</div>"
      ],
      "text/plain": [
       "           id  year  age  educ    networth\n",
       "college                                   \n",
       "0         141  1989   25     1     -7.3087\n",
       "0         142  1989   25     1     -7.3087\n",
       "1         179  1989   25     4      9.6604\n",
       "1         180  1989   25     4      9.6604\n",
       "0         202  1989   80     1      0.9222\n",
       "...       ...   ...  ...   ...         ...\n",
       "0        5740  2022   80     2     16.0000\n",
       "1        5746  2022   80     4  10624.0010\n",
       "0        5751  2022   80     2    142.1000\n",
       "1        5790  2022   80     3      5.1300\n",
       "1        5805  2022   80     4    747.4000\n",
       "\n",
       "[130 rows x 5 columns]"
      ]
     },
     "execution_count": 130,
     "metadata": {},
     "output_type": "execute_result"
    }
   ],
   "source": [
    "df1"
   ]
  },
  {
   "cell_type": "code",
   "execution_count": 138,
   "id": "426d79c8",
   "metadata": {},
   "outputs": [],
   "source": [
    "#Finally, combine the analyses from the previous parts to see how net worth evolved over the years for those with and without college.\n",
    "\n",
    "# 1.  Compute the average net worth (in thousands of US dollars) by survey year, separately for non-college (`college=0`) and the college-educated (`college=1`).\n",
    "# 2.  Create a line plot that shows the evolution of net worth over the years 1989 to 2022 by college status, i.e., your figure should contain two lines, one for college and one for non-college.\n",
    "\n",
    "avg_networth_0college = avg_networth_year(df1[df1['college'] == 0])\n",
    "avg_networth_1college = avg_networth_year(df1[df1['college'] == 1])\n"
   ]
  },
  {
   "cell_type": "markdown",
   "id": "1f983064",
   "metadata": {},
   "source": [
    "***\n",
    "# Data description"
   ]
  },
  {
   "cell_type": "markdown",
   "id": "ee90f234",
   "metadata": {},
   "source": [
    "## Variables\n",
    "\n",
    "| Variable         | Description |\n",
    "|------------------|-------------|\n",
    "| id               | Identifier  |\n",
    "| year             | Survey year |\n",
    "| age             | Age of reference person (household head) |\n",
    "| educ            | Education of reference person (1 = no high school/GED, 2 = high school or GED, 3 = some college or Assoc. degree, 4 = Bachelors degree or higher)|\n",
    "| networth        | Net worth in US dollars |"
   ]
  },
  {
   "cell_type": "markdown",
   "id": "339882d9",
   "metadata": {},
   "source": [
    "## Reference\n",
    "\n",
    "- URL: https://www.federalreserve.gov/econres/scfindex.htm\n",
    "- DOI Identifier: https://doi.org/10.17016/8799\n",
    "- Creator: Board of Governors of the Federal Reserve Board\n",
    "- Name: 2022 Survey of Consumer Finances\n",
    "- Description:\n",
    "    The Survey of Consumer Finances (SCF) is normally a triennial cross-sectional survey of U.S. families. The survey data include information on families' balance sheets, pensions, income, and demographic characteristics.\n",
    "- Publisher: Board of Governors of the Federal Reserve System\n",
    "- Publication Year: 2023 "
   ]
  }
 ],
 "metadata": {
  "kernelspec": {
   "display_name": "Python 3",
   "language": "python",
   "name": "python3"
  },
  "language_info": {
   "codemirror_mode": {
    "name": "ipython",
    "version": 3
   },
   "file_extension": ".py",
   "mimetype": "text/x-python",
   "name": "python",
   "nbconvert_exporter": "python",
   "pygments_lexer": "ipython3",
   "version": "3.13.5"
  }
 },
 "nbformat": 4,
 "nbformat_minor": 5
}
